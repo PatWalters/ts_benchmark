{
 "cells": [
  {
   "cell_type": "markdown",
   "id": "2be88031-0c4d-4b83-bd4e-311f01db47f1",
   "metadata": {},
   "source": [
    "This notebook reads a reference json file and writes out json files for 10 runs"
   ]
  },
  {
   "cell_type": "code",
   "execution_count": 1,
   "id": "e7c4ec20-7932-40a6-bd7c-da8ba5a948fa",
   "metadata": {},
   "outputs": [],
   "source": [
    "import json\n",
    "import os\n",
    "from itertools import product\n",
    "import copy"
   ]
  },
  {
   "cell_type": "code",
   "execution_count": 2,
   "id": "567af604-6d94-4be0-9acc-8c7740145861",
   "metadata": {},
   "outputs": [],
   "source": [
    "method_list = [\"rws\",\"ts\",\"ga\"]\n",
    "lib_list = [\"amide\",\"quinazoline\"]"
   ]
  },
  {
   "cell_type": "code",
   "execution_count": 3,
   "id": "e0f0e68e-18e4-4e41-a82a-968fedc4d230",
   "metadata": {},
   "outputs": [],
   "source": [
    "def write_json_files(dirname):\n",
    "    os.chdir(dirname)\n",
    "    for method, lib in product(method_list, lib_list):\n",
    "        filename = (f\"{method}_{lib}_{dirname}.json\")\n",
    "        with open(filename) as ifs:\n",
    "            param_dict = json.load(ifs)\n",
    "        base_log_filename = param_dict['log_filename']\n",
    "        base_results_filename = param_dict['results_filename']\n",
    "        for i in range(0,10):\n",
    "            new_dict = copy.deepcopy(param_dict)\n",
    "            new_dict['log_filename'] = base_log_filename.replace(\".txt\",f\"_{i:03d}.txt\")\n",
    "            new_dict['results_filename'] = base_results_filename.replace(\".csv\",f\"_{i:03d}.csv\")\n",
    "            json_filename = filename.replace(\".json\",f\"_{i:03d}.json\")\n",
    "            with open(json_filename,\"w\") as ofs:\n",
    "                json.dump(new_dict,ofs,indent=4)\n",
    "    os.chdir(\"..\")"
   ]
  },
  {
   "cell_type": "code",
   "execution_count": 4,
   "id": "b39bc972-d7c6-41bc-8445-9a9c61cf4efa",
   "metadata": {},
   "outputs": [],
   "source": [
    "write_json_files(\"docking\")"
   ]
  },
  {
   "cell_type": "code",
   "execution_count": 5,
   "id": "0bd7e7eb-5814-406c-9a72-b4519d1aaee4",
   "metadata": {},
   "outputs": [],
   "source": [
    "write_json_files(\"rocs\")"
   ]
  },
  {
   "cell_type": "code",
   "execution_count": null,
   "id": "d14b40c8-8464-4835-8260-f7975e1fba57",
   "metadata": {},
   "outputs": [],
   "source": []
  }
 ],
 "metadata": {
  "kernelspec": {
   "display_name": "Python 3 (ipykernel)",
   "language": "python",
   "name": "python3"
  },
  "language_info": {
   "codemirror_mode": {
    "name": "ipython",
    "version": 3
   },
   "file_extension": ".py",
   "mimetype": "text/x-python",
   "name": "python",
   "nbconvert_exporter": "python",
   "pygments_lexer": "ipython3",
   "version": "3.11.11"
  }
 },
 "nbformat": 4,
 "nbformat_minor": 5
}
